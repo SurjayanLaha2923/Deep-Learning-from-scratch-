{
 "cells": [
  {
   "cell_type": "code",
   "execution_count": 11,
   "id": "96dcc688-e9e1-44f7-847e-989daa6aba34",
   "metadata": {},
   "outputs": [],
   "source": [
    "class myNN:\n",
    "    def __init__(self):\n",
    "        self.w1 = 1\n",
    "        self.w2 = 1\n",
    "        self.bias = 0\n",
    "\n",
    "def fit(self,X,y, epochs, loss_threshold):\n",
    "    self.w1, self.w2, self.bias = self.gradient_descent(X['age'], X['affordibility'], y, epochs, loss_threshold)\n",
    "\n",
    "def gradient_descent(self, age, affordibility, y_true, epochs, loss_threshold):\n",
    "    # w1, w1, bias\n",
    "    w1 = w2 = 1\n",
    "    bias = 0\n",
    "    rate = 0.5\n",
    "    n = len(age)\n",
    "    \n",
    "    for i in range (epochs):\n",
    "        weighted_sum = w1*age +w2 *affordibility + bias\n",
    "        y_predicted = sigmoid_numpy(weighted_sum)\n",
    "        loss = log_loss(y_true, y_predicted)\n",
    "        w1d = (1/n)*np.dot(np.transpose(age),(y_predicted-y_true))\n",
    "        w2d = (1/n)*np.dot(np.transpose(affordibility),(y_predicted-y_true))\n",
    "        bias_d = np.mean(y_predicted-y_true)\n",
    "        w1 = w1 - rate * w1d\n",
    "        w2 = w2 - rate * w2d\n",
    "        bias = bias -rate *bias_d\n",
    "        print (f'Epoch:{i}, w1:{w1}, w2:{w2}, bias:{bias}, loss:{log_loss}')\n",
    "        if loss<=loss_threshold:\n",
    "            break\n",
    "            \n",
    "    return w1,w2, bias"
   ]
  },
  {
   "cell_type": "code",
   "execution_count": 6,
   "id": "06371c36-4014-44bf-85fa-f19caa88580d",
   "metadata": {},
   "outputs": [
    {
     "ename": "AttributeError",
     "evalue": "'myNN' object has no attribute 'fit'",
     "output_type": "error",
     "traceback": [
      "\u001b[1;31m---------------------------------------------------------------------------\u001b[0m",
      "\u001b[1;31mAttributeError\u001b[0m                            Traceback (most recent call last)",
      "Cell \u001b[1;32mIn[6], line 2\u001b[0m\n\u001b[0;32m      1\u001b[0m customModel \u001b[38;5;241m=\u001b[39m myNN()\n\u001b[1;32m----> 2\u001b[0m \u001b[43mcustomModel\u001b[49m\u001b[38;5;241;43m.\u001b[39;49m\u001b[43mfit\u001b[49m(X_train_scaled, y_train, epochs\u001b[38;5;241m=\u001b[39m\u001b[38;5;241m8000\u001b[39m, loss_threshold\u001b[38;5;241m=\u001b[39m \u001b[38;5;241m0.5464\u001b[39m)\n",
      "\u001b[1;31mAttributeError\u001b[0m: 'myNN' object has no attribute 'fit'"
     ]
    }
   ],
   "source": [
    "customModel = myNN()\n",
    "customModel.fit(X_train_scaled, y_train, epochs=8000, loss_threshold = 0.5464)\n"
   ]
  },
  {
   "cell_type": "code",
   "execution_count": null,
   "id": "758df08c-9f49-4ca8-a3ff-9ea39a1c1253",
   "metadata": {},
   "outputs": [],
   "source": []
  }
 ],
 "metadata": {
  "kernelspec": {
   "display_name": "Python 3 (ipykernel)",
   "language": "python",
   "name": "python3"
  },
  "language_info": {
   "codemirror_mode": {
    "name": "ipython",
    "version": 3
   },
   "file_extension": ".py",
   "mimetype": "text/x-python",
   "name": "python",
   "nbconvert_exporter": "python",
   "pygments_lexer": "ipython3",
   "version": "3.11.4"
  }
 },
 "nbformat": 4,
 "nbformat_minor": 5
}
