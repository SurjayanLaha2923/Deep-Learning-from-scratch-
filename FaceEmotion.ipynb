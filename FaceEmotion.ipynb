{
 "cells": [
  {
   "cell_type": "code",
   "execution_count": 17,
   "id": "d2659792-dca5-4dfe-8aad-17684fd3c333",
   "metadata": {},
   "outputs": [],
   "source": [
    "import cv2\n",
    "import numpy as np\n",
    "import pandas as pd\n",
    "import matplotlib as plt\n",
    "\n"
   ]
  },
  {
   "cell_type": "code",
   "execution_count": 18,
   "id": "870f6af3-3b75-4462-adda-0e71e3bf2670",
   "metadata": {},
   "outputs": [],
   "source": [
    "\n",
    "img = cv2.imread('happyface.jpg')"
   ]
  },
  {
   "cell_type": "code",
   "execution_count": 19,
   "id": "ef7b909e-768a-4c7d-8276-374bb1219261",
   "metadata": {},
   "outputs": [],
   "source": [
    "import matplotlib.pyplot as plt"
   ]
  },
  {
   "cell_type": "code",
   "execution_count": 20,
   "id": "374c9c63-fc6a-4d67-b8bf-5c5976f2855d",
   "metadata": {},
   "outputs": [
    {
     "ename": "error",
     "evalue": "OpenCV(4.9.0) D:\\a\\opencv-python\\opencv-python\\opencv\\modules\\imgproc\\src\\color.cpp:196: error: (-215:Assertion failed) !_src.empty() in function 'cv::cvtColor'\n",
     "output_type": "error",
     "traceback": [
      "\u001b[1;31m---------------------------------------------------------------------------\u001b[0m",
      "\u001b[1;31merror\u001b[0m                                     Traceback (most recent call last)",
      "Cell \u001b[1;32mIn[20], line 1\u001b[0m\n\u001b[1;32m----> 1\u001b[0m plt\u001b[38;5;241m.\u001b[39mimshow(\u001b[43mcv2\u001b[49m\u001b[38;5;241;43m.\u001b[39;49m\u001b[43mcvtColor\u001b[49m\u001b[43m(\u001b[49m\u001b[43mimg\u001b[49m\u001b[43m,\u001b[49m\u001b[43m \u001b[49m\u001b[43mcv2\u001b[49m\u001b[38;5;241;43m.\u001b[39;49m\u001b[43mCOLOR_BGR2RGB\u001b[49m\u001b[43m)\u001b[49m)\n",
      "\u001b[1;31merror\u001b[0m: OpenCV(4.9.0) D:\\a\\opencv-python\\opencv-python\\opencv\\modules\\imgproc\\src\\color.cpp:196: error: (-215:Assertion failed) !_src.empty() in function 'cv::cvtColor'\n"
     ]
    }
   ],
   "source": [
    "plt.imshow(cv2.cvtColor(img, cv2.COLOR_BGR2RGB))"
   ]
  },
  {
   "cell_type": "code",
   "execution_count": null,
   "id": "3de3db1d-c48c-412d-b88d-a0cdfd9e12d2",
   "metadata": {},
   "outputs": [],
   "source": []
  },
  {
   "cell_type": "code",
   "execution_count": 55,
   "id": "b14ca868-3c8d-44cf-b7a5-4ce46d8f3d7d",
   "metadata": {},
   "outputs": [],
   "source": []
  },
  {
   "cell_type": "code",
   "execution_count": 57,
   "id": "ae4a4fca-564c-4310-95b1-869c07edaeec",
   "metadata": {},
   "outputs": [
    {
     "name": "stdout",
     "output_type": "stream",
     "text": [
      "Contents of the zip file:\n",
      "['emotions.csv', 'images/0/Anger.jpg', 'images/0/Contempt.jpg', 'images/0/Disgust.jpg', 'images/0/Fear.jpg', 'images/0/Happy.jpg', 'images/0/Neutral.jpg', 'images/0/Sad.jpg', 'images/0/Surprised.jpg', 'images/1/Anger.jpg', 'images/1/Contempt.jpg', 'images/1/Disgust.jpg', 'images/1/Fear.jpg', 'images/1/Happy.jpg', 'images/1/Neutral.jpg', 'images/1/Sad.jpg', 'images/1/Surprised.jpg', 'images/10/Anger.jpg', 'images/10/Contempt.jpg', 'images/10/Disgust.jpg', 'images/10/Fear.jpg', 'images/10/Happy.jpg', 'images/10/Neutral.jpg', 'images/10/Sad.jpg', 'images/10/Surprised.jpg', 'images/11/Anger.jpg', 'images/11/Contempt.jpg', 'images/11/Disgust.jpg', 'images/11/Fear.jpg', 'images/11/Happy.jpg', 'images/11/Neutral.jpg', 'images/11/Sad.jpg', 'images/11/Surprised.jpg', 'images/12/Anger.jpg', 'images/12/Contempt.jpg', 'images/12/Disgust.jpg', 'images/12/Fear.jpg', 'images/12/Happy.jpg', 'images/12/Neutral.jpg', 'images/12/Sad.jpg', 'images/12/Surprised.jpg', 'images/13/Anger.jpg', 'images/13/Contempt.jpg', 'images/13/Disgust.jpg', 'images/13/Fear.jpg', 'images/13/Happy.jpg', 'images/13/Neutral.jpg', 'images/13/Sad.jpg', 'images/13/Surprised.jpg', 'images/14/Anger.jpg', 'images/14/Contempt.jpg', 'images/14/Disgust.jpg', 'images/14/Fear.jpg', 'images/14/Happy.jpg', 'images/14/Neutral.jpg', 'images/14/Sad.jpg', 'images/14/Surprised.jpg', 'images/15/Anger.jpg', 'images/15/Contempt.jpg', 'images/15/Disgust.jpg', 'images/15/Fear.jpg', 'images/15/Happy.jpg', 'images/15/Neutral.jpg', 'images/15/Sad.jpg', 'images/15/Surprised.jpg', 'images/16/Anger.jpg', 'images/16/Contempt.jpg', 'images/16/Disgust.jpg', 'images/16/Fear.jpg', 'images/16/Happy.jpg', 'images/16/Neutral.jpg', 'images/16/Sad.jpg', 'images/16/Surprised.jpg', 'images/17/Anger.jpg', 'images/17/Contempt.jpg', 'images/17/Disgust.jpg', 'images/17/Fear.jpg', 'images/17/Happy.jpg', 'images/17/Neutral.jpg', 'images/17/Sad.jpg', 'images/17/Surprised.jpg', 'images/18/Anger.jpg', 'images/18/Contempt.jpg', 'images/18/Disgust.jpg', 'images/18/Fear.jpg', 'images/18/Happy.jpg', 'images/18/Neutral.jpg', 'images/18/Sad.jpg', 'images/18/Surprised.jpg', 'images/2/Anger.jpg', 'images/2/Contempt.jpg', 'images/2/Disgust.jpg', 'images/2/Fear.jpg', 'images/2/Happy.jpg', 'images/2/Neutral.jpg', 'images/2/Sad.jpg', 'images/2/Surprised.jpg', 'images/3/Anger.jpg', 'images/3/Contempt.jpg', 'images/3/Disgust.jpg', 'images/3/Fear.jpg', 'images/3/Happy.jpg', 'images/3/Neutral.jpg', 'images/3/Sad.jpg', 'images/3/Surprised.jpg', 'images/4/Anger.jpg', 'images/4/Contempt.jpg', 'images/4/Disgust.jpg', 'images/4/Fear.jpg', 'images/4/Happy.jpg', 'images/4/Neutral.jpg', 'images/4/Sad.jpg', 'images/4/Surprised.jpg', 'images/5/Anger.jpg', 'images/5/Contempt.jpg', 'images/5/Disgust.jpg', 'images/5/Fear.jpg', 'images/5/Happy.jpg', 'images/5/Neutral.jpg', 'images/5/Sad.jpg', 'images/5/Surprised.jpg', 'images/6/Anger.jpg', 'images/6/Contempt.jpg', 'images/6/Disgust.jpg', 'images/6/Fear.jpg', 'images/6/Happy.jpg', 'images/6/Neutral.jpg', 'images/6/Sad.jpg', 'images/6/Surprised.jpg', 'images/7/Anger.jpg', 'images/7/Contempt.jpg', 'images/7/Disgust.jpg', 'images/7/Fear.jpg', 'images/7/Happy.jpg', 'images/7/Neutral.jpg', 'images/7/Sad.jpg', 'images/7/Surprised.jpg', 'images/8/Anger.jpg', 'images/8/Contempt.jpg', 'images/8/Disgust.jpg', 'images/8/Fear.jpg', 'images/8/Happy.jpg', 'images/8/Neutral.jpg', 'images/8/Sad.jpg', 'images/8/Surprised.jpg', 'images/9/Anger.jpg', 'images/9/Contempt.jpg', 'images/9/Disgust.jpg', 'images/9/Fear.jpg', 'images/9/Happy.jpg', 'images/9/Neutral.jpg', 'images/9/Sad.jpg', 'images/9/Surprised.jpg']\n"
     ]
    }
   ],
   "source": [
    "\\\\"
   ]
  },
  {
   "cell_type": "code",
   "execution_count": null,
   "id": "557e57d3-c54b-447f-8495-20e17c0aabaa",
   "metadata": {},
   "outputs": [],
   "source": []
  }
 ],
 "metadata": {
  "kernelspec": {
   "display_name": "Python 3 (ipykernel)",
   "language": "python",
   "name": "python3"
  },
  "language_info": {
   "codemirror_mode": {
    "name": "ipython",
    "version": 3
   },
   "file_extension": ".py",
   "mimetype": "text/x-python",
   "name": "python",
   "nbconvert_exporter": "python",
   "pygments_lexer": "ipython3",
   "version": "3.11.4"
  }
 },
 "nbformat": 4,
 "nbformat_minor": 5
}
