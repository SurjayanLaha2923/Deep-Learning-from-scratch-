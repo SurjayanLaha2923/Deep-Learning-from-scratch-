{
 "cells": [
  {
   "cell_type": "code",
   "execution_count": 1,
   "id": "d21cb440-dfc4-4280-b67d-43861960f0e7",
   "metadata": {},
   "outputs": [],
   "source": [
    "import numpy as np"
   ]
  },
  {
   "cell_type": "code",
   "execution_count": 5,
   "id": "880e9767-7dde-429a-86ae-5645c915e965",
   "metadata": {},
   "outputs": [],
   "source": [
    " # MATRIX SUBTRACTION \n",
    "revenue = np.array([[180,200,220],[24,36,40],[12,18,20]])\n",
    "expenses = np.array([[80,90,100],[10,16,20],[8,10,10]])"
   ]
  },
  {
   "cell_type": "code",
   "execution_count": 7,
   "id": "a4f75c4b-80de-45fe-85b2-14fb604eff66",
   "metadata": {},
   "outputs": [
    {
     "data": {
      "text/plain": [
       "array([[100, 110, 120],\n",
       "       [ 14,  20,  20],\n",
       "       [  4,   8,  10]])"
      ]
     },
     "execution_count": 7,
     "metadata": {},
     "output_type": "execute_result"
    }
   ],
   "source": [
    "profit = revenue-expenses\n",
    "profit"
   ]
  },
  {
   "cell_type": "code",
   "execution_count": 8,
   "id": "d9a2faa4-128c-41b5-8fc1-98f533249e60",
   "metadata": {},
   "outputs": [],
   "source": [
    "#MATRIX MULTIPLICATION\n",
    "price_per_unit = np.array([1000,400,1200])\n",
    "units = np.array([[30,40,50],[5,10,15],[2,5,7]])\n"
   ]
  },
  {
   "cell_type": "code",
   "execution_count": 12,
   "id": "97e82e7c-2999-42ce-bd70-ef3bffff8a7a",
   "metadata": {},
   "outputs": [
    {
     "data": {
      "text/plain": [
       "array([34400, 50000, 64400])"
      ]
     },
     "execution_count": 12,
     "metadata": {},
     "output_type": "execute_result"
    }
   ],
   "source": [
    "np.dot(price_per_unit,units)"
   ]
  },
  {
   "cell_type": "code",
   "execution_count": 10,
   "id": "5f84d3e7-8094-4000-96a1-089aff09957a",
   "metadata": {},
   "outputs": [],
   "source": [
    "#here we did a simple multiplication operation, but in the price_per_unit\n",
    "#matrix we did not mention 3 different rows adn columns but the numpy perfoemed the \n",
    "#operation fir all the 3 columns - This is called Nmumpy Broadcasting.\n",
    "#Numpy Broadcasting - If the shape of two matrix is not same then it will try to expand it \n"
   ]
  },
  {
   "cell_type": "code",
   "execution_count": null,
   "id": "8ab0642e-22ae-4cab-9e95-6d2623728afd",
   "metadata": {},
   "outputs": [],
   "source": []
  }
 ],
 "metadata": {
  "kernelspec": {
   "display_name": "Python 3 (ipykernel)",
   "language": "python",
   "name": "python3"
  },
  "language_info": {
   "codemirror_mode": {
    "name": "ipython",
    "version": 3
   },
   "file_extension": ".py",
   "mimetype": "text/x-python",
   "name": "python",
   "nbconvert_exporter": "python",
   "pygments_lexer": "ipython3",
   "version": "3.11.4"
  }
 },
 "nbformat": 4,
 "nbformat_minor": 5
}
