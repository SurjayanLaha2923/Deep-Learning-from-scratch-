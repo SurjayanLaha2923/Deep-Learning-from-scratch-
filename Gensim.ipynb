{
 "cells": [
  {
   "cell_type": "code",
   "execution_count": 7,
   "id": "6b6195fc-c5d1-4c68-8de9-f9b89f671758",
   "metadata": {},
   "outputs": [],
   "source": [
    "document = \" I am A GOOD BOY i LOVE nlp.\""
   ]
  },
  {
   "cell_type": "code",
   "execution_count": 8,
   "id": "58477d37-2ea6-4104-9038-bc884dd06f89",
   "metadata": {},
   "outputs": [],
   "source": [
    "corpus = [\"Laha is learning gensim library.\",\"after gensim I will do projects\",\"I am also leaarning dl\", \"Today is a sunny day\"]"
   ]
  },
  {
   "cell_type": "code",
   "execution_count": 10,
   "id": "182f98f8-e65c-415e-972e-2f1a4a2f7f08",
   "metadata": {},
   "outputs": [],
   "source": [
    "stoplist = set ('for a of and to the in'.split(' '))\n",
    "processed_corpus = [[word for word in document.lower ().split()if word not in stoplist]\n",
    "   for document in corpus]"
   ]
  },
  {
   "cell_type": "code",
   "execution_count": 11,
   "id": "db06727b-c2fe-4b6a-85a3-215867eaaae6",
   "metadata": {},
   "outputs": [
    {
     "name": "stdout",
     "output_type": "stream",
     "text": [
      "[['laha', 'is', 'learning', 'gensim', 'library.'],\n",
      " ['after', 'gensim', 'i', 'will', 'do', 'projects'],\n",
      " ['i', 'am', 'also', 'leaarning', 'dl'],\n",
      " ['today', 'is', 'sunny', 'day']]\n"
     ]
    }
   ],
   "source": [
    "import pprint\n",
    "pprint.pprint(processed_corpus)"
   ]
  },
  {
   "cell_type": "code",
   "execution_count": 12,
   "id": "141b3140-91eb-4e26-8867-ffa69c767b9f",
   "metadata": {},
   "outputs": [],
   "source": [
    "import gensim"
   ]
  },
  {
   "cell_type": "code",
   "execution_count": 16,
   "id": "7252644c-5dd4-47a8-8d9c-e5f12275c369",
   "metadata": {},
   "outputs": [],
   "source": [
    "corpus = \"\"\"'Laha is learning gensim library\",\"after gensim I will do projects\",\"I am also leaarning dl\", \"Today is a sunny day'\"\"\""
   ]
  },
  {
   "cell_type": "code",
   "execution_count": 18,
   "id": "8a970c30-1c9f-47df-ab2e-93fb29f9712a",
   "metadata": {},
   "outputs": [
    {
     "data": {
      "text/plain": [
       "['laha',\n",
       " 'is',\n",
       " 'learning',\n",
       " 'gensim',\n",
       " 'library',\n",
       " 'after',\n",
       " 'gensim',\n",
       " 'will',\n",
       " 'do',\n",
       " 'projects',\n",
       " 'am',\n",
       " 'also',\n",
       " 'leaarning',\n",
       " 'dl',\n",
       " 'today',\n",
       " 'is',\n",
       " 'sunny',\n",
       " 'day']"
      ]
     },
     "execution_count": 18,
     "metadata": {},
     "output_type": "execute_result"
    }
   ],
   "source": [
    "gensim.utils.simple_preprocess(corpus, deacc= False, min_len=2, max_len=15)"
   ]
  },
  {
   "cell_type": "code",
   "execution_count": 19,
   "id": "8973fce6-6f3e-4294-b277-6277674a2f72",
   "metadata": {},
   "outputs": [
    {
     "name": "stdout",
     "output_type": "stream",
     "text": [
      "Dictionary<17 unique tokens: ['gensim', 'is', 'laha', 'learning', 'library.']...>\n"
     ]
    }
   ],
   "source": [
    "from gensim import corpora\n",
    "dictionary = corpora.Dictionary(processed_corpus)\n",
    "print(dictionary)"
   ]
  },
  {
   "cell_type": "code",
   "execution_count": 21,
   "id": "f23a2dac-f37b-4481-9da3-5d03e7899fc8",
   "metadata": {},
   "outputs": [
    {
     "name": "stdout",
     "output_type": "stream",
     "text": [
      "{'after': 5,\n",
      " 'also': 10,\n",
      " 'am': 11,\n",
      " 'day': 14,\n",
      " 'dl': 12,\n",
      " 'do': 6,\n",
      " 'gensim': 0,\n",
      " 'i': 7,\n",
      " 'is': 1,\n",
      " 'laha': 2,\n",
      " 'leaarning': 13,\n",
      " 'learning': 3,\n",
      " 'library.': 4,\n",
      " 'projects': 8,\n",
      " 'sunny': 15,\n",
      " 'today': 16,\n",
      " 'will': 9}\n"
     ]
    }
   ],
   "source": [
    "pprint.pprint(dictionary.token2id)"
   ]
  },
  {
   "cell_type": "code",
   "execution_count": 22,
   "id": "8aeca5e2-764a-4ab8-a820-116f0c56b0b0",
   "metadata": {},
   "outputs": [
    {
     "data": {
      "text/plain": [
       "[['laha', 'is', 'learning', 'gensim', 'library.'],\n",
       " ['after', 'gensim', 'i', 'will', 'do', 'projects'],\n",
       " ['i', 'am', 'also', 'leaarning', 'dl'],\n",
       " ['today', 'is', 'sunny', 'day']]"
      ]
     },
     "execution_count": 22,
     "metadata": {},
     "output_type": "execute_result"
    }
   ],
   "source": [
    "processed_corpus"
   ]
  },
  {
   "cell_type": "code",
   "execution_count": 23,
   "id": "0345cf85-9335-4c46-a9ab-667ba91911f8",
   "metadata": {},
   "outputs": [
    {
     "name": "stdout",
     "output_type": "stream",
     "text": [
      "[[(0, 1), (1, 1), (2, 1), (3, 1), (4, 1)],\n",
      " [(0, 1), (5, 1), (6, 1), (7, 1), (8, 1), (9, 1)],\n",
      " [(7, 1), (10, 1), (11, 1), (12, 1), (13, 1)],\n",
      " [(1, 1), (14, 1), (15, 1), (16, 1)]]\n"
     ]
    }
   ],
   "source": [
    "BoW_corpus = [dictionary.doc2bow(text) for text in processed_corpus]\n",
    "pprint.pprint(BoW_corpus)"
   ]
  },
  {
   "cell_type": "code",
   "execution_count": 24,
   "id": "43159990-9b2a-4c99-8f6f-da38cc3ee41b",
   "metadata": {},
   "outputs": [
    {
     "name": "stdout",
     "output_type": "stream",
     "text": [
      "TfidfModel<num_docs=4, num_nnz=20>\n",
      "[(6, 0.7071067811865475), (9, 0.7071067811865475)]\n"
     ]
    }
   ],
   "source": [
    "from gensim import models\n",
    "tfidf = models.TfidfModel(BoW_corpus)\n",
    "words = \"will do project\".lower().split()\n",
    "print(tfidf)\n",
    "print(tfidf[dictionary.doc2bow(words)])"
   ]
  },
  {
   "cell_type": "code",
   "execution_count": null,
   "id": "81a1c258-f425-4efe-9503-ac0f0eff2dda",
   "metadata": {},
   "outputs": [],
   "source": []
  }
 ],
 "metadata": {
  "kernelspec": {
   "display_name": "Python 3 (ipykernel)",
   "language": "python",
   "name": "python3"
  },
  "language_info": {
   "codemirror_mode": {
    "name": "ipython",
    "version": 3
   },
   "file_extension": ".py",
   "mimetype": "text/x-python",
   "name": "python",
   "nbconvert_exporter": "python",
   "pygments_lexer": "ipython3",
   "version": "3.11.4"
  }
 },
 "nbformat": 4,
 "nbformat_minor": 5
}
